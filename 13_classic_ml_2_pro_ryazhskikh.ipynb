{
  "nbformat": 4,
  "nbformat_minor": 0,
  "metadata": {
    "colab": {
      "name": "13_classic_ml_2_pro_ryazhskikh.ipynb",
      "version": "0.3.2",
      "provenance": [],
      "collapsed_sections": [
        "AmFrcOVp4wIb"
      ],
      "toc_visible": true,
      "include_colab_link": true
    },
    "kernelspec": {
      "name": "python3",
      "display_name": "Python 3"
    },
    "accelerator": "GPU"
  },
  "cells": [
    {
      "cell_type": "markdown",
      "metadata": {
        "id": "view-in-github",
        "colab_type": "text"
      },
      "source": [
        "<a href=\"https://colab.research.google.com/github/darja/AndroidProductFlavors/blob/master/13_classic_ml_2_pro_ryazhskikh.ipynb\" target=\"_parent\"><img src=\"https://colab.research.google.com/assets/colab-badge.svg\" alt=\"Open In Colab\"/></a>"
      ]
    },
    {
      "cell_type": "markdown",
      "metadata": {
        "id": "d8QOOlzOMFxc",
        "colab_type": "text"
      },
      "source": [
        "# Классическое машинное обучение: признаки для разных типов данных\n",
        "\n",
        "* Сделать классификатор открытый - закрытый глаз с помощью признаков для изображения. \n",
        "* Для зарузки файлов eyes_test.npz и eyes_train.npz использовать копию ноутбука dz_ml2_eyes.ipynb \n",
        "* [База](https://www.dropbox.com/s/bm1u6lkx6owy2fk/eyes.zip?dl=0)\n",
        "* [Ноутбук](https://colab.research.google.com/drive/1AVbY3qihYa79B4O_jSg8xRBMjWhP6T43)\n",
        "* В качестве признаков рекомендуется использовать одновременно HoG и LBP.\n",
        "* Сам алгоритм может быть такой же, как в предыдущем домашнем задании для классического машинного обучения про классификатор лицо-не лицо. Только вместо интенсивностей используются признаки. Для одновременного использования признаков HoG и LBP можно сделать отдельно методы главных компонент для каждого типа признаков, сконкатенировать преобразованные признаки в один вектор и затем запускать классификатор, например SVM.\n",
        "* В отчет - описание построенного классификатора и ошибки первого и второго рода, accuracy.\n",
        "* Опционально - прогнать полученный алгоритм на базе лицо-не лицо\n",
        "* Опционально - обучить сверточную сеть классифицировать открытый - закрытый глаз, лицо - не лицо."
      ]
    },
    {
      "cell_type": "markdown",
      "metadata": {
        "id": "8amut6iPMPCa",
        "colab_type": "text"
      },
      "source": [
        "# Подготовка окружения"
      ]
    },
    {
      "cell_type": "code",
      "metadata": {
        "id": "1esaRMNLMgyi",
        "colab_type": "code",
        "colab": {}
      },
      "source": [
        "import numpy as np\n",
        "import matplotlib.pyplot as plt\n",
        "\n",
        "from skimage.feature import hog, local_binary_pattern\n",
        "from skimage import data, color, exposure\n",
        "\n",
        "from sklearn.svm import SVC\n",
        "from sklearn.decomposition import PCA\n",
        "from sklearn.ensemble import AdaBoostClassifier\n",
        "from sklearn.tree import DecisionTreeClassifier\n",
        "\n",
        "from sklearn import metrics"
      ],
      "execution_count": 0,
      "outputs": []
    },
    {
      "cell_type": "markdown",
      "metadata": {
        "id": "v2dn2mkNsrHt",
        "colab_type": "text"
      },
      "source": [
        "## Чтение базы"
      ]
    },
    {
      "cell_type": "markdown",
      "metadata": {
        "id": "kzcLUTSVtI7P",
        "colab_type": "text"
      },
      "source": [
        "### Подключение Google Drive"
      ]
    },
    {
      "cell_type": "code",
      "metadata": {
        "id": "ZgOHWoU3tAkD",
        "colab_type": "code",
        "colab": {}
      },
      "source": [
        "from google.colab import drive\n",
        "drive.mount('/content/gdrive')"
      ],
      "execution_count": 0,
      "outputs": []
    },
    {
      "cell_type": "markdown",
      "metadata": {
        "id": "DobEk2y1tMx2",
        "colab_type": "text"
      },
      "source": [
        "### Распаковка базы"
      ]
    },
    {
      "cell_type": "code",
      "metadata": {
        "id": "jXW4Ywl6tTHl",
        "colab_type": "code",
        "colab": {
          "base_uri": "https://localhost:8080/",
          "height": 68
        },
        "outputId": "0b85f6f5-e876-4352-937a-7768e9cfbc7a"
      },
      "source": [
        "!cp /content/gdrive/'My Drive'/neural/eyes.zip eyes.zip\n",
        "!unzip eyes.zip"
      ],
      "execution_count": 2,
      "outputs": [
        {
          "output_type": "stream",
          "text": [
            "Archive:  eyes.zip\n",
            "  inflating: eyes_test.npz           \n",
            "  inflating: eyes_train.npz          \n"
          ],
          "name": "stdout"
        }
      ]
    },
    {
      "cell_type": "markdown",
      "metadata": {
        "id": "05PQtQJ3toAM",
        "colab_type": "text"
      },
      "source": [
        "### Чтение файлов"
      ]
    },
    {
      "cell_type": "code",
      "metadata": {
        "id": "6_YN5n2gtp-m",
        "colab_type": "code",
        "colab": {}
      },
      "source": [
        "data = np.load('eyes_train.npz')\n",
        "train_images = data[\"images\"]\n",
        "train_labels = data[\"labels\"]\n",
        "\n",
        "data = np.load('eyes_test.npz')\n",
        "test_images = data[\"images\"]\n",
        "test_labels = data[\"labels\"]"
      ],
      "execution_count": 0,
      "outputs": []
    },
    {
      "cell_type": "code",
      "metadata": {
        "id": "PfkBCm1guvKQ",
        "colab_type": "code",
        "colab": {
          "base_uri": "https://localhost:8080/",
          "height": 102
        },
        "outputId": "e39c7f37-2ebc-41a1-e93d-4262e2ee175b"
      },
      "source": [
        "print(\"Train set: %s, labels: %s\" % (train_images.shape, train_labels.shape))\n",
        "print(\"Train labels: %s open, %s closed\" % (sum(train_labels==1), sum(train_labels==0)))\n",
        "print(\"\\nTest set: %s, labels: %s\" % (test_images.shape, test_labels.shape))\n",
        "print(\"Test labels: %s open, %s closed\" % (sum(test_labels==1), sum(test_labels==0)))\n"
      ],
      "execution_count": 4,
      "outputs": [
        {
          "output_type": "stream",
          "text": [
            "Train set: (3200, 24, 24), labels: (3200,)\n",
            "Train labels: 1629 open, 1571 closed\n",
            "\n",
            "Test set: (800, 24, 24), labels: (800,)\n",
            "Test labels: 409 open, 391 closed\n"
          ],
          "name": "stdout"
        }
      ]
    },
    {
      "cell_type": "markdown",
      "metadata": {
        "id": "u4cl_VSuHJAd",
        "colab_type": "text"
      },
      "source": [
        "# Подготовка данных для классификатора"
      ]
    },
    {
      "cell_type": "markdown",
      "metadata": {
        "id": "Dnsb2bcwPJeX",
        "colab_type": "text"
      },
      "source": [
        "## Подготовка HOG-дескрипторов"
      ]
    },
    {
      "cell_type": "markdown",
      "metadata": {
        "id": "sonuVZyh_ylv",
        "colab_type": "text"
      },
      "source": [
        "### Чтение HoG-дескрипторов"
      ]
    },
    {
      "cell_type": "code",
      "metadata": {
        "id": "x7ieY2_lys9W",
        "colab_type": "code",
        "colab": {
          "base_uri": "https://localhost:8080/",
          "height": 51
        },
        "outputId": "cbb3d18d-835d-4d14-b0a5-30e405e5d91f"
      },
      "source": [
        "to_hog = lambda image: hog(image, orientations=8, pixels_per_cell=(3, 3), cells_per_block=(1, 1), block_norm=\"L1\", visualize=False)\n",
        "\n",
        "# Train set\n",
        "train_hog_raw = []\n",
        "for img in train_images:\n",
        "    train_hog_raw.append(to_hog(img))\n",
        "train_hog_raw = np.array(train_hog_raw)\n",
        "print(\"Train set hog descriptors: \", train_hog_raw.shape)\n",
        "\n",
        "test_hog_raw = []\n",
        "for img in test_images:\n",
        "    test_hog_raw.append(to_hog(img))\n",
        "test_hog_raw = np.array(test_hog_raw)\n",
        "print(\"Test set hog descriptors: \", test_hog_raw.shape)\n"
      ],
      "execution_count": 5,
      "outputs": [
        {
          "output_type": "stream",
          "text": [
            "Train set hog descriptors:  (3200, 512)\n",
            "Test set hog descriptors:  (800, 512)\n"
          ],
          "name": "stdout"
        }
      ]
    },
    {
      "cell_type": "markdown",
      "metadata": {
        "id": "AmFrcOVp4wIb",
        "colab_type": "text"
      },
      "source": [
        "#### Что не так с этим np.vectorize?"
      ]
    },
    {
      "cell_type": "code",
      "metadata": {
        "id": "DbhX8fyicqfO",
        "colab_type": "code",
        "colab": {}
      },
      "source": [
        "# почему не работает через vectorize?\n",
        "hog_vec = np.vectorize(lambda image: hog(image, orientations=8, pixels_per_cell=(3, 3), cells_per_block=(1, 1), block_norm=\"L1\", visualize=False), otypes=[np.ndarray])\n",
        "\n",
        "train_images_hog = hog_vec(train_images)\n",
        "test_images_hog = hog_vec(test_images)"
      ],
      "execution_count": 0,
      "outputs": []
    },
    {
      "cell_type": "markdown",
      "metadata": {
        "id": "wAvW3gyvOQtq",
        "colab_type": "text"
      },
      "source": [
        "### Нормализация"
      ]
    },
    {
      "cell_type": "code",
      "metadata": {
        "id": "RlhqizGjOaJR",
        "colab_type": "code",
        "colab": {
          "base_uri": "https://localhost:8080/",
          "height": 34
        },
        "outputId": "a0ff4f73-6483-41d1-e72a-f4a7b54e8718"
      },
      "source": [
        "hog_mean = train_hog_raw.mean(0)\n",
        "hog_std = train_hog_raw.std(0)\n",
        "train_hog = np.zeros_like(train_hog_raw)\n",
        "for i in range(0, train_hog_raw.shape[0]):\n",
        "    train_hog[i,:]= (train_hog_raw[i,:] - hog_mean) / hog_std\n",
        "print(\"Normalized hog descriptors: \", train_hog.shape)\n"
      ],
      "execution_count": 7,
      "outputs": [
        {
          "output_type": "stream",
          "text": [
            "Train set hog descriptors:  (3200, 512)\n"
          ],
          "name": "stdout"
        }
      ]
    },
    {
      "cell_type": "markdown",
      "metadata": {
        "id": "lXPJAzCL_tyn",
        "colab_type": "text"
      },
      "source": [
        "### Выделение главных компонентов"
      ]
    },
    {
      "cell_type": "code",
      "metadata": {
        "id": "CMPTVDkiACR1",
        "colab_type": "code",
        "colab": {
          "base_uri": "https://localhost:8080/",
          "height": 401
        },
        "outputId": "d7e5feb9-96b4-42ec-c21d-32ada27e234c"
      },
      "source": [
        "flen = train_hog.shape[1]\n",
        "print(flen)\n",
        "\n",
        "pca = PCA(n_components=flen)\n",
        "pca.fit(train_hog)\n",
        "\n",
        "plt.figure(figsize=(20, 5))\n",
        "plt.bar(np.arange(1,flen+1), pca.explained_variance_ratio_)\n",
        "plt.ylabel(\"Variance ratio\")\n",
        "plt.xlabel(\"PC number\")\n",
        "plt.title(\"PCA all data\")\n",
        "\n",
        "pca = PCA(n_components=450)\n",
        "pca.fit(train_hog)\n",
        "\n",
        "#преобразуем обучающую выборку\n",
        "print(\"Original train set:\", train_hog.shape)\n",
        "train_hog_pca = pca.transform(train_hog)\n",
        "print(\"Transformed train set:\", train_hog_pca.shape)"
      ],
      "execution_count": 16,
      "outputs": [
        {
          "output_type": "stream",
          "text": [
            "512\n",
            "Original train set: (3200, 512)\n",
            "Transformed train set: (3200, 450)\n"
          ],
          "name": "stdout"
        },
        {
          "output_type": "display_data",
          "data": {
            "image/png": "[encoded data removed]",
            "text/plain": [
              "<Figure size 1440x360 with 1 Axes>"
            ]
          },
          "metadata": {
            "tags": []
          }
        }
      ]
    },
    {
      "cell_type": "markdown",
      "metadata": {
        "id": "hFH7z0kJPoGA",
        "colab_type": "text"
      },
      "source": [
        "### Преобразование тестового набора"
      ]
    },
    {
      "cell_type": "code",
      "metadata": {
        "id": "DFImlbRJPyEu",
        "colab_type": "code",
        "colab": {
          "base_uri": "https://localhost:8080/",
          "height": 102
        },
        "outputId": "4cf567d7-5529-45bc-c474-c565902b457b"
      },
      "source": [
        "test_hog = np.zeros_like(test_hog_raw)\n",
        "for i in range(0, test_hog_raw.shape[0]):\n",
        "    test_hog[i,:]= (test_hog_raw[i,:] - hog_mean) / hog_std\n",
        "print(test_hog.shape)\n",
        "\n",
        "print(\"Original test set:\", test_hog.shape)\n",
        "test_hog_pca = pca.transform(test_hog)\n",
        "print(\"Transformed test set:\", test_hog_pca.shape)"
      ],
      "execution_count": 17,
      "outputs": [
        {
          "output_type": "stream",
          "text": [
            "(512,)\n",
            "(800, 512)\n",
            "(800, 512)\n",
            "Original test set: (800, 512)\n",
            "Transformed test set: (800, 450)\n"
          ],
          "name": "stdout"
        }
      ]
    },
    {
      "cell_type": "markdown",
      "metadata": {
        "id": "b8qjyrBE7i91",
        "colab_type": "text"
      },
      "source": [
        "## Подготовка LBP"
      ]
    },
    {
      "cell_type": "markdown",
      "metadata": {
        "id": "g-JPzC1RFDWS",
        "colab_type": "text"
      },
      "source": [
        "### Чтение LBP"
      ]
    },
    {
      "cell_type": "code",
      "metadata": {
        "id": "jAACQAyvFHCO",
        "colab_type": "code",
        "colab": {
          "base_uri": "https://localhost:8080/",
          "height": 51
        },
        "outputId": "7b6f9915-8116-4342-d5c8-4a5ac27b74b2"
      },
      "source": [
        "radius = 3\n",
        "n_points = 8 * radius\n",
        "\n",
        "lbp = lambda image: local_binary_pattern(image, n_points, radius)\n",
        "\n",
        "# Train set\n",
        "train_lbp_raw = []\n",
        "for img in train_images:\n",
        "    train_lbp_raw.append(lbp(img).ravel())\n",
        "train_lbp_raw = np.array(train_lbp_raw)\n",
        "print(\"Train set lbp: \", train_lbp_raw.shape)\n",
        "\n",
        "test_lbp_raw = []\n",
        "for img in test_images:\n",
        "    test_lbp_raw.append(lbp(img).ravel())\n",
        "test_lbp_raw = np.array(test_lbp_raw)\n",
        "print(\"Test set lbp: \", test_lbp_raw.shape)\n"
      ],
      "execution_count": 19,
      "outputs": [
        {
          "output_type": "stream",
          "text": [
            "Train set lbp:  (3200, 576)\n",
            "Test set lbp:  (800, 576)\n"
          ],
          "name": "stdout"
        }
      ]
    },
    {
      "cell_type": "markdown",
      "metadata": {
        "id": "j3PBNqBbMVZx",
        "colab_type": "text"
      },
      "source": [
        "### Нормализация"
      ]
    },
    {
      "cell_type": "code",
      "metadata": {
        "id": "vKBVxi6nMY51",
        "colab_type": "code",
        "colab": {
          "base_uri": "https://localhost:8080/",
          "height": 34
        },
        "outputId": "b45c37da-227d-4617-ada5-8a06ce6a980d"
      },
      "source": [
        "lbp_mean = train_lbp_raw.mean(0)\n",
        "lbp_std = train_lbp_raw.std(0)\n",
        "train_lbp = np.zeros_like(train_lbp_raw)\n",
        "for i in range(0,train_lbp_raw.shape[0]):\n",
        "    train_lbp[i,:]= (train_lbp_raw[i,:] - lbp_mean) / lbp_std"
      ],
      "execution_count": 20,
      "outputs": [
        {
          "output_type": "stream",
          "text": [
            "(576,)\n"
          ],
          "name": "stdout"
        }
      ]
    },
    {
      "cell_type": "markdown",
      "metadata": {
        "id": "cRZstvynF1ss",
        "colab_type": "text"
      },
      "source": [
        "### Выделение главных компонентов"
      ]
    },
    {
      "cell_type": "code",
      "metadata": {
        "id": "yHFv2glaF20b",
        "colab_type": "code",
        "colab": {
          "base_uri": "https://localhost:8080/",
          "height": 384
        },
        "outputId": "6b0a1355-b990-4429-a13d-e59b17434bad"
      },
      "source": [
        "flen = train_lbp.shape[1]\n",
        "\n",
        "pca = PCA(n_components=flen)\n",
        "pca.fit(train_lbp)\n",
        "\n",
        "plt.figure(figsize=(20, 5))\n",
        "plt.bar(np.arange(1, flen+1), pca.explained_variance_ratio_)\n",
        "plt.ylabel(\"Variance ratio\")\n",
        "plt.xlabel(\"PC number\")\n",
        "plt.title(\"PCA all data\")\n",
        "\n",
        "pca = PCA(n_components=200)\n",
        "pca.fit(train_lbp)\n",
        "\n",
        "#преобразуем обучающую выборку\n",
        "train_lbp_pca = pca.transform(train_lbp)\n",
        "print(\"Transformed train set:\", train_lbp_pca.shape)"
      ],
      "execution_count": 22,
      "outputs": [
        {
          "output_type": "stream",
          "text": [
            "576\n",
            "Transformed train set: (3200, 200)\n"
          ],
          "name": "stdout"
        },
        {
          "output_type": "display_data",
          "data": {
            "image/png": "[encoded data removed]",
            "text/plain": [
              "<Figure size 1440x360 with 1 Axes>"
            ]
          },
          "metadata": {
            "tags": []
          }
        }
      ]
    },
    {
      "cell_type": "markdown",
      "metadata": {
        "id": "3QxldIrBNZTf",
        "colab_type": "text"
      },
      "source": [
        "#### Преобразование тестового набора"
      ]
    },
    {
      "cell_type": "code",
      "metadata": {
        "id": "BwFS4CG3NeW8",
        "colab_type": "code",
        "colab": {
          "base_uri": "https://localhost:8080/",
          "height": 51
        },
        "outputId": "1cbd2db7-90b3-4d3a-fe14-061d3fbff346"
      },
      "source": [
        "test_lbp = np.zeros_like(test_lbp_raw)\n",
        "for i in range(0, test_lbp_raw.shape[0]):\n",
        "    test_lbp[i,:]= (test_lbp_raw[i,:] - lbp_mean) / lbp_std\n",
        "\n",
        "print(\"Original test set:\", test_lbp.shape)\n",
        "test_lbp_pca = pca.transform(test_lbp)\n",
        "print(\"Transformed test set:\", test_lbp_pca.shape)"
      ],
      "execution_count": 26,
      "outputs": [
        {
          "output_type": "stream",
          "text": [
            "Original test set: (800, 576)\n",
            "Transformed test set: (800, 200)\n"
          ],
          "name": "stdout"
        }
      ]
    },
    {
      "cell_type": "markdown",
      "metadata": {
        "id": "8ko4m09kHaQ_",
        "colab_type": "text"
      },
      "source": [
        "## Объединение HoG- и LBP-компонентов"
      ]
    },
    {
      "cell_type": "code",
      "metadata": {
        "id": "RU0q3m5EHmp-",
        "colab_type": "code",
        "colab": {
          "base_uri": "https://localhost:8080/",
          "height": 187
        },
        "outputId": "95aa02f1-0c64-44ec-e165-2c40b415cba1"
      },
      "source": [
        "def union_features(im_hog, im_lbp):\n",
        "    train_set = []\n",
        "    for i in range(0, im_hog.shape[0]):\n",
        "        train_set.append(np.append(im_hog[i], im_lbp[i]))\n",
        "    train_set = np.array(train_set)\n",
        "    return train_set\n",
        "    \n",
        "\n",
        "train_combined_pca = union_features(train_hog_pca, train_lbp_pca)\n",
        "print(\"Train data\\n\\tHoG: %s\\n\\tLBP: %s\\n\\tCombined: %s\" % (train_hog_pca.shape, train_lbp_pca.shape, train_combined_pca.shape))\n",
        "\n",
        "test_combined_pca = union_features(test_hog_pca, test_lbp_pca)\n",
        "print(\"\\n\\nTrain data\\n\\tHoG: %s\\n\\tLBP: %s\\n\\tCombined: %s\" % (test_hog_pca.shape, test_lbp_pca.shape, test_combined_pca.shape))\n"
      ],
      "execution_count": 31,
      "outputs": [
        {
          "output_type": "stream",
          "text": [
            "Train data\n",
            "\tHoG: (3200, 450)\n",
            "\tLBP: (3200, 200)\n",
            "\tCombined: (3200, 650)\n",
            "\n",
            "\n",
            "Train data\n",
            "\tHoG: (800, 450)\n",
            "\tLBP: (800, 200)\n",
            "\tCombined: (800, 650)\n"
          ],
          "name": "stdout"
        }
      ]
    },
    {
      "cell_type": "markdown",
      "metadata": {
        "id": "Lwf55t5p0BAO",
        "colab_type": "text"
      },
      "source": [
        "# Классификация"
      ]
    },
    {
      "cell_type": "markdown",
      "metadata": {
        "id": "9ASxSLX_0Tr2",
        "colab_type": "text"
      },
      "source": [
        "## Утилиты"
      ]
    },
    {
      "cell_type": "code",
      "metadata": {
        "id": "aTSYMJ7c0V_D",
        "colab_type": "code",
        "colab": {}
      },
      "source": [
        "#вычисление ошибок первого и второго рода\n",
        "def calculate_errors(expected, predicted):    \n",
        "    acc = metrics.accuracy_score(expected, predicted)\n",
        "    FP = sum((expected == 0) & (predicted == 1))\n",
        "    FN = sum((expected == 1) & (predicted == 0))\n",
        "    TP = sum((expected == 1) & (predicted == 1))\n",
        "    TN = sum((expected == 0) & (predicted == 0))\n",
        "    FPR = FP / (FP + TN)\n",
        "    FNR = FN / (TP + FN)\n",
        "    return (FPR, FNR, acc)\n",
        "\n",
        "def print_errors(expected, predicted):    \n",
        "    FPR, FNR, acc = calculate_errors(expected, predicted)\n",
        "    print(\"Accuracy:\", acc)\n",
        "    print('ERR1 ', FPR)\n",
        "    print('ERR2 ', FNR)\n",
        "    return (FPR, FNR, acc)\n",
        "\n",
        "def fit_and_predict(classifier, train_set, test_set):\n",
        "    classifier.fit(train_set, train_labels)\n",
        "\n",
        "    predicted = classifier.predict(test_set)\n",
        "    print_errors(test_labels, predicted)\n",
        "    \n",
        "def fit_and_predict_all_datasets(create_classifier):\n",
        "    print(\"HoG classification\")\n",
        "    fit_and_predict(create_classifier(), train_hog, test_hog)\n",
        "\n",
        "    print(\"\\n\\nHoG PCA classification\")\n",
        "    fit_and_predict(create_classifier(), train_hog_pca, test_hog_pca)\n",
        "\n",
        "    print(\"\\n\\nLBP classification\")\n",
        "    fit_and_predict(create_classifier(), train_lbp, test_lbp)\n",
        "\n",
        "    print(\"\\n\\nLBP PCA classification\")\n",
        "    fit_and_predict(create_classifier(), train_lbp_pca, test_lbp_pca)\n",
        "    \n",
        "    print(\"\\n\\nCombined HoG + LBP PCA classification\")\n",
        "    fit_and_predict(create_classifier(), train_combined_pca, test_combined_pca)"
      ],
      "execution_count": 0,
      "outputs": []
    },
    {
      "cell_type": "markdown",
      "metadata": {
        "id": "yQN4lOmZ0Hk3",
        "colab_type": "text"
      },
      "source": [
        "## Классификация с помощью SVC"
      ]
    },
    {
      "cell_type": "code",
      "metadata": {
        "id": "nMWLeUl1CyNV",
        "colab_type": "code",
        "colab": {
          "base_uri": "https://localhost:8080/",
          "height": 493
        },
        "outputId": "35800f7e-fc09-4671-fbc6-d7ee634c1e7e"
      },
      "source": [
        "fit_and_predict_all_datasets(lambda: SVC(gamma=\"auto\"))"
      ],
      "execution_count": 33,
      "outputs": [
        {
          "output_type": "stream",
          "text": [
            "HoG classification\n",
            "Accuracy: 0.93375\n",
            "ERR1  0.056265984654731455\n",
            "ERR2  0.07579462102689487\n",
            "\n",
            "\n",
            "HoG PCA classification\n",
            "Accuracy: 0.93375\n",
            "ERR1  0.056265984654731455\n",
            "ERR2  0.07579462102689487\n",
            "\n",
            "\n",
            "LBP classification\n",
            "Accuracy: 0.94125\n",
            "ERR1  0.058823529411764705\n",
            "ERR2  0.05867970660146699\n",
            "\n",
            "\n",
            "LBP PCA classification\n",
            "Accuracy: 0.9425\n",
            "ERR1  0.061381074168797956\n",
            "ERR2  0.05378973105134474\n",
            "\n",
            "\n",
            "Combined HoG + LBP PCA classification\n",
            "Accuracy: 0.96\n",
            "ERR1  0.028132992327365727\n",
            "ERR2  0.05134474327628362\n"
          ],
          "name": "stdout"
        }
      ]
    }
  ]
}